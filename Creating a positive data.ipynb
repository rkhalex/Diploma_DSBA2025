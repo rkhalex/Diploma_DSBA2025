{
 "cells": [
  {
   "cell_type": "code",
   "execution_count": 7,
   "id": "ae054d8a",
   "metadata": {},
   "outputs": [
    {
     "name": "stdout",
     "output_type": "stream",
     "text": [
      "Collecting pypdf2\n",
      "  Downloading pypdf2-3.0.1-py3-none-any.whl (232 kB)\n",
      "\u001b[K     |████████████████████████████████| 232 kB 1.1 MB/s eta 0:00:01\n",
      "\u001b[?25hRequirement already satisfied: typing_extensions>=3.10.0.0 in /Users/a.arkhipova/opt/anaconda3/lib/python3.8/site-packages (from pypdf2) (4.12.2)\n",
      "Installing collected packages: pypdf2\n",
      "Successfully installed pypdf2-3.0.1\n",
      "Note: you may need to restart the kernel to use updated packages.\n"
     ]
    }
   ],
   "source": [
    "%pip install pypdf2"
   ]
  },
  {
   "cell_type": "code",
   "execution_count": 6,
   "id": "415e7206",
   "metadata": {},
   "outputs": [
    {
     "name": "stdout",
     "output_type": "stream",
     "text": [
      "Collecting pdfminer\n",
      "  Downloading pdfminer-20191125.tar.gz (4.2 MB)\n",
      "\u001b[K     |████████████████████████████████| 4.2 MB 1.2 MB/s eta 0:00:01\n",
      "\u001b[?25hCollecting pycryptodome\n",
      "  Downloading pycryptodome-3.21.0-cp36-abi3-macosx_10_9_x86_64.whl (1.6 MB)\n",
      "\u001b[K     |████████████████████████████████| 1.6 MB 59.9 MB/s eta 0:00:01\n",
      "\u001b[?25hBuilding wheels for collected packages: pdfminer\n",
      "  Building wheel for pdfminer (setup.py) ... \u001b[?25ldone\n",
      "\u001b[?25h  Created wheel for pdfminer: filename=pdfminer-20191125-py3-none-any.whl size=6140127 sha256=633fe88099e758c3b62d33bcf6bdd962478daf6d23c2287d1e40a5f5c429e82c\n",
      "  Stored in directory: /Users/a.arkhipova/Library/Caches/pip/wheels/1c/28/7d/f390b82bb0307deb63ff27a1474fd308ec68ee028cb9ab6283\n",
      "Successfully built pdfminer\n",
      "Installing collected packages: pycryptodome, pdfminer\n",
      "Successfully installed pdfminer-20191125 pycryptodome-3.21.0\n",
      "Note: you may need to restart the kernel to use updated packages.\n"
     ]
    }
   ],
   "source": [
    "%pip install pdfminer"
   ]
  },
  {
   "cell_type": "code",
   "execution_count": 8,
   "id": "5971c53c",
   "metadata": {},
   "outputs": [
    {
     "name": "stdout",
     "output_type": "stream",
     "text": [
      "Collecting pdfminer.six\n",
      "  Downloading pdfminer.six-20240706-py3-none-any.whl (5.6 MB)\n",
      "\u001b[K     |████████████████████████████████| 5.6 MB 877 kB/s eta 0:00:01\n",
      "\u001b[?25hCollecting cryptography>=36.0.0\n",
      "  Downloading cryptography-44.0.2-cp37-abi3-macosx_10_9_universal2.whl (6.7 MB)\n",
      "\u001b[K     |████████████████████████████████| 6.7 MB 106.0 MB/s eta 0:00:01\n",
      "\u001b[?25hCollecting charset-normalizer>=2.0.0\n",
      "  Downloading charset_normalizer-3.4.1-cp38-cp38-macosx_10_9_universal2.whl (195 kB)\n",
      "\u001b[K     |████████████████████████████████| 195 kB 83.9 MB/s eta 0:00:01\n",
      "\u001b[?25hRequirement already satisfied: cffi>=1.12 in /Users/a.arkhipova/opt/anaconda3/lib/python3.8/site-packages (from cryptography>=36.0.0->pdfminer.six) (1.14.5)\n",
      "Requirement already satisfied: pycparser in /Users/a.arkhipova/opt/anaconda3/lib/python3.8/site-packages (from cffi>=1.12->cryptography>=36.0.0->pdfminer.six) (2.20)\n",
      "Installing collected packages: cryptography, charset-normalizer, pdfminer.six\n",
      "  Attempting uninstall: cryptography\n",
      "    Found existing installation: cryptography 3.4.7\n",
      "    Uninstalling cryptography-3.4.7:\n",
      "      Successfully uninstalled cryptography-3.4.7\n",
      "Successfully installed charset-normalizer-3.4.1 cryptography-44.0.2 pdfminer.six-20240706\n",
      "Note: you may need to restart the kernel to use updated packages.\n"
     ]
    }
   ],
   "source": [
    "%pip install pdfminer.six"
   ]
  },
  {
   "cell_type": "code",
   "execution_count": 12,
   "id": "c6fba9b8",
   "metadata": {},
   "outputs": [
    {
     "name": "stdout",
     "output_type": "stream",
     "text": [
      "Collecting pdfplumber\n",
      "  Downloading pdfplumber-0.11.5-py3-none-any.whl (59 kB)\n",
      "\u001b[K     |████████████████████████████████| 59 kB 1.1 MB/s eta 0:00:01\n",
      "\u001b[?25hCollecting pdfminer.six==20231228\n",
      "  Downloading pdfminer.six-20231228-py3-none-any.whl (5.6 MB)\n",
      "\u001b[K     |████████████████████████████████| 5.6 MB 1.9 MB/s eta 0:00:01\n",
      "\u001b[?25hCollecting Pillow>=9.1\n",
      "  Downloading pillow-10.4.0-cp38-cp38-macosx_10_10_x86_64.whl (3.5 MB)\n",
      "\u001b[K     |████████████████████████████████| 3.5 MB 60.6 MB/s eta 0:00:01\n",
      "\u001b[?25hCollecting pypdfium2>=4.18.0\n",
      "  Downloading pypdfium2-4.30.1-py3-none-macosx_10_13_x86_64.whl (2.9 MB)\n",
      "\u001b[K     |████████████████████████████████| 2.9 MB 64.7 MB/s eta 0:00:01\n",
      "\u001b[?25hRequirement already satisfied: cryptography>=36.0.0 in /Users/a.arkhipova/opt/anaconda3/lib/python3.8/site-packages (from pdfminer.six==20231228->pdfplumber) (44.0.2)\n",
      "Requirement already satisfied: charset-normalizer>=2.0.0 in /Users/a.arkhipova/opt/anaconda3/lib/python3.8/site-packages (from pdfminer.six==20231228->pdfplumber) (3.4.1)\n",
      "Requirement already satisfied: cffi>=1.12 in /Users/a.arkhipova/opt/anaconda3/lib/python3.8/site-packages (from cryptography>=36.0.0->pdfminer.six==20231228->pdfplumber) (1.14.5)\n",
      "Requirement already satisfied: pycparser in /Users/a.arkhipova/opt/anaconda3/lib/python3.8/site-packages (from cffi>=1.12->cryptography>=36.0.0->pdfminer.six==20231228->pdfplumber) (2.20)\n",
      "Installing collected packages: pypdfium2, Pillow, pdfminer.six, pdfplumber\n",
      "  Attempting uninstall: Pillow\n",
      "    Found existing installation: Pillow 8.2.0\n",
      "    Uninstalling Pillow-8.2.0:\n",
      "      Successfully uninstalled Pillow-8.2.0\n",
      "  Attempting uninstall: pdfminer.six\n",
      "    Found existing installation: pdfminer.six 20240706\n",
      "    Uninstalling pdfminer.six-20240706:\n",
      "      Successfully uninstalled pdfminer.six-20240706\n",
      "Successfully installed Pillow-10.4.0 pdfminer.six-20231228 pdfplumber-0.11.5 pypdfium2-4.30.1\n",
      "Note: you may need to restart the kernel to use updated packages.\n"
     ]
    }
   ],
   "source": [
    "%pip install pdfplumber"
   ]
  },
  {
   "cell_type": "code",
   "execution_count": 14,
   "id": "b51e1e93",
   "metadata": {},
   "outputs": [
    {
     "name": "stdout",
     "output_type": "stream",
     "text": [
      "Collecting pdf2image\n",
      "  Downloading pdf2image-1.17.0-py3-none-any.whl (11 kB)\n",
      "Requirement already satisfied: pillow in /Users/a.arkhipova/opt/anaconda3/lib/python3.8/site-packages (from pdf2image) (10.4.0)\n",
      "Installing collected packages: pdf2image\n",
      "Successfully installed pdf2image-1.17.0\n",
      "Note: you may need to restart the kernel to use updated packages.\n"
     ]
    }
   ],
   "source": [
    "%pip install pdf2image"
   ]
  },
  {
   "cell_type": "code",
   "execution_count": 16,
   "id": "2559bb22",
   "metadata": {},
   "outputs": [
    {
     "name": "stdout",
     "output_type": "stream",
     "text": [
      "Collecting pytesseract\n",
      "  Downloading pytesseract-0.3.13-py3-none-any.whl (14 kB)\n",
      "Collecting packaging>=21.3\n",
      "  Downloading packaging-24.2-py3-none-any.whl (65 kB)\n",
      "\u001b[K     |████████████████████████████████| 65 kB 775 kB/s eta 0:00:01\n",
      "\u001b[?25hRequirement already satisfied: Pillow>=8.0.0 in /Users/a.arkhipova/opt/anaconda3/lib/python3.8/site-packages (from pytesseract) (10.4.0)\n",
      "Installing collected packages: packaging, pytesseract\n",
      "  Attempting uninstall: packaging\n",
      "    Found existing installation: packaging 20.9\n",
      "    Uninstalling packaging-20.9:\n",
      "      Successfully uninstalled packaging-20.9\n",
      "\u001b[31mERROR: pip's dependency resolver does not currently take into account all the packages that are installed. This behaviour is the source of the following dependency conflicts.\n",
      "aext-core 0.4.0 requires jupyter-server<3,>=1.21, but you have jupyter-server 1.4.1 which is incompatible.\n",
      "aext-assistant 0.4.0 requires jupyter-server<3,>=1.21, but you have jupyter-server 1.4.1 which is incompatible.\u001b[0m\n",
      "Successfully installed packaging-24.2 pytesseract-0.3.13\n",
      "Note: you may need to restart the kernel to use updated packages.\n"
     ]
    }
   ],
   "source": [
    "%pip install pytesseract"
   ]
  },
  {
   "cell_type": "code",
   "execution_count": 2,
   "id": "052acc1c",
   "metadata": {},
   "outputs": [],
   "source": [
    "import pandas as pd\n",
    "import re\n",
    "import string\n",
    "from PyPDF2 import PdfReader\n",
    "\n",
    "import PyPDF2\n",
    "from pdfminer.high_level import extract_pages, extract_text\n",
    "from pdfminer.layout import LTTextContainer, LTChar, LTRect, LTFigure\n",
    "import pdfplumber\n",
    "from PIL import Image\n",
    "from pdf2image import convert_from_path\n",
    "import pytesseract \n",
    "import os"
   ]
  },
  {
   "cell_type": "code",
   "execution_count": 18,
   "id": "63301569",
   "metadata": {},
   "outputs": [],
   "source": [
    "reader = PdfReader(\"Гражданский кодекс Российской Федерации (часть первая).pdf\")\n",
    "text = \"\\n\".join([page.extract_text() for page in reader.pages if page.extract_text()])"
   ]
  },
  {
   "cell_type": "code",
   "execution_count": 20,
   "id": "e79b747a",
   "metadata": {},
   "outputs": [],
   "source": [
    "pdf_path = \"Гражданский кодекс Российской Федерации (часть первая).pdf\"\n",
    "\n",
    "pdfFileObj = open(pdf_path, 'rb')\n",
    "pdfReaded = PyPDF2.PdfReader(pdfFileObj)\n",
    "\n",
    "text_per_page = {}"
   ]
  },
  {
   "cell_type": "code",
   "execution_count": 22,
   "id": "c171ac9a",
   "metadata": {},
   "outputs": [],
   "source": [
    "def text_extraction(element):\n",
    "    line_text = element.get_text()\n",
    "    \n",
    "    line_formats = []\n",
    "    for text_line in element:\n",
    "        if isinstance(text_line, LTTextContainer):\n",
    "            for character in text_line:\n",
    "                if isinstance(character, LTChar):\n",
    "                    line_formats.append(character.fontname)\n",
    "                    line_formats.append(character.size)\n",
    "    format_per_line = list(set(line_formats))\n",
    "    \n",
    "    return (line_text, format_per_line)\n",
    "\n",
    "def crop_image(element, pageObj):\n",
    "    [image_left, image_top, image_right, image_bottom] = [element.x0,element.y0,element.x1,element.y1] \n",
    "    pageObj.mediabox.lower_left = (image_left, image_bottom)\n",
    "    pageObj.mediabox.upper_right = (image_right, image_top)\n",
    "    cropped_pdf_writer = PyPDF2.PdfWriter()\n",
    "    cropped_pdf_writer.add_page(pageObj)\n",
    "    with open('cropped_image.pdf', 'wb') as cropped_pdf_file:\n",
    "        cropped_pdf_writer.write(cropped_pdf_file)\n",
    "\n",
    "def convert_to_images(input_file,):\n",
    "    images = convert_from_path(input_file)\n",
    "    image = images[0]\n",
    "    output_file = \"PDF_image.png\"\n",
    "    image.save(output_file, \"PNG\")\n",
    "\n",
    "def image_to_text(image_path):\n",
    "    img = Image.open(image_path)\n",
    "    text = pytesseract.image_to_string(img)\n",
    "    return text\n",
    "\n",
    "def extract_table(pdf_path, page_num, table_num):\n",
    "    pdf = pdfplumber.open(pdf_path)\n",
    "    table_page = pdf.pages[page_num]\n",
    "    table = table_page.extract_tables()[table_num]\n",
    "    return table\n",
    "\n",
    "def table_converter(table):\n",
    "    table_string = ''\n",
    "    for row_num in range(len(table)):\n",
    "        row = table[row_num]\n",
    "        cleaned_row = [item.replace('\\n', ' ') if item is not None and '\\n' in item else 'None' if item is None else item for item in row]\n",
    "        table_string+=('|'+'|'.join(cleaned_row)+'|'+'\\n')\n",
    "    table_string = table_string[:-1]\n",
    "    return table_string"
   ]
  },
  {
   "cell_type": "code",
   "execution_count": 25,
   "id": "9cce8778",
   "metadata": {},
   "outputs": [
    {
     "name": "stdout",
     "output_type": "stream",
     "text": [
      "17.02.2025, 16:01\n",
      "\"Гражданский кодекс Российской Федерации (часть первая)\" от 30.11.1994 N 51-ФЗ (ред. от 08... \\ КонсультантПлюс\n",
      " \n",
      "30 ноября 1994 года \n",
      "N 51-ФЗ\n",
      " \n",
      " \n",
      "ГРАЖДАНСКИЙ КОДЕКС РОССИЙСКОЙ ФЕДЕРАЦИИ\n",
      " \n",
      "ЧАСТЬ ПЕРВАЯ\n",
      " \n",
      "Принят\n",
      "Государственной Думой\n",
      "21 октября 1994 года\n",
      "Часть вторая, часть третья и часть четвертая\n",
      "Гражданского кодекса РФ\n",
      "введены в информационный банк отдельными документами\n",
      "Список изменяющих документов\n",
      "(в ред. Федеральных законов от 20.02.1996 N 18-ФЗ, от 12.08.1996 N 111-ФЗ,\n",
      "от 08.07.1999 N 138-ФЗ, от 16.04.2001 N 45-ФЗ, от 15.05.2001 N 54-ФЗ,\n",
      "от 21.03.2002 N 31-ФЗ, от 14.11.2002 N 161-ФЗ, от 26.11.2002 N 152-ФЗ,\n",
      "от 10.01.2003 N 15-ФЗ, от 23.12.2003 N 182-ФЗ, от 29.06.2004 N 58-ФЗ,\n",
      "от 29.07.2004 N 97-ФЗ, от 29.12.2004 N 192-ФЗ, от 30.12.2004 N 213-ФЗ,\n",
      "от 30.12.2004 N 217-ФЗ, от 02.07.2005 N 83-ФЗ, от 21.07.2005 N 109-ФЗ,\n",
      "от 03.01.2006 N 6-ФЗ, от 10.01.2006 N 18-ФЗ, от 03.06.2006 N 73-ФЗ,\n",
      "от 30.06.2006 N 93-ФЗ, от 27.07.2006 N 138-ФЗ, от 03.11.2006 N 175-ФЗ,\n",
      "от 04.12.2006 N 201-ФЗ, от 18.12.2006 N 231-ФЗ, от 18.12.2006 N 232-ФЗ,\n",
      "от 29.12.2006 N 258-ФЗ, от 05.02.2007 N 13-ФЗ, от 26.06.2007 N 118-ФЗ,\n",
      "от 19.07.2007 N 197-ФЗ, от 02.10.2007 N 225-ФЗ, от 01.12.2007 N 318-ФЗ,\n",
      "от 06.12.2007 N 333-ФЗ, от 24.04.2008 N 49-ФЗ, от 13.05.2008 N 68-ФЗ,\n",
      "от 14.07.2008 N 118-ФЗ, от 22.07.2008 N 141-ФЗ, от 23.07.2008 N 160-ФЗ,\n",
      "от 30.12.2008 N 306-ФЗ, от 30.12.2008 N 311-ФЗ, от 30.12.2008 N 312-ФЗ,\n",
      "от 30.12.2008 N 315-ФЗ, от 09.02.2009 N 7-ФЗ, от 29.06.2009 N 132-ФЗ,\n",
      "от 17.07.2009 N 145-ФЗ, от 27.12.2009 N 352-ФЗ, от 08.05.2010 N 83-ФЗ,\n",
      "от 27.07.2010 N 194-ФЗ, от 07.02.2011 N 4-ФЗ, от 06.04.2011 N 65-ФЗ,\n",
      "от 28.11.2011 N 337-ФЗ, от 30.11.2011 N 363-ФЗ, от 06.12.2011 N 393-ФЗ,\n",
      "от 06.12.2011 N 405-ФЗ, от 03.12.2012 N 231-ФЗ, от 03.12.2012 N 240-ФЗ,\n",
      "от 29.12.2012 N 282-ФЗ, от 30.12.2012 N 302-ФЗ, от 11.02.2013 N 8-ФЗ,\n",
      "от 07.05.2013 N 100-ФЗ, от 28.06.2013 N 134-ФЗ, от 02.07.2013 N 142-ФЗ,\n",
      "от 02.07.2013 N 167-ФЗ, от 23.07.2013 N 245-ФЗ, от 02.11.2013 N 302-ФЗ,\n",
      "от 21.12.2013 N 367-ФЗ, от 12.03.2014 N 35-ФЗ, от 05.05.2014 N 99-ФЗ,\n",
      "от 05.05.2014 N 129-ФЗ, от 23.06.2014 N 171-ФЗ, от 22.10.2014 N 315-ФЗ,\n",
      "от 31.12.2014 N 499-ФЗ, от 08.03.2015 N 42-ФЗ, от 06.04.2015 N 80-ФЗ,\n",
      "от 23.05.2015 N 133-ФЗ, от 29.06.2015 N 154-ФЗ, от 29.06.2015 N 186-ФЗ,\n",
      "от 29.06.2015 N 209-ФЗ, от 29.06.2015 N 210-ФЗ, от 13.07.2015 N 216-ФЗ,\n",
      "от 13.07.2015 N 258-ФЗ, от 13.07.2015 N 268-ФЗ, от 30.12.2015 N 457-ФЗ,\n",
      "от 31.01.2016 N 7-ФЗ, от 30.03.2016 N 79-ФЗ, от 23.05.2016 N 146-ФЗ,\n",
      "от 03.07.2016 N 236-ФЗ, от 03.07.2016 N 315-ФЗ, от 03.07.2016 N 332-ФЗ,\n",
      "от 03.07.2016 N 333-ФЗ, от 03.07.2016 N 354-ФЗ, от 28.12.2016 N 497-ФЗ,\n",
      "https://cloud.consultant.ru/cloud/cgi/online.cgi?req=doc&base=LAW&n=482692&dst=100001#0s184dUSOaq6etmr1\n",
      "1/258\n",
      "\n"
     ]
    }
   ],
   "source": [
    "for pagenum, page in enumerate(extract_pages(pdf_path)):\n",
    "    \n",
    "    pageObj = pdfReaded.pages[pagenum]\n",
    "    page_text = []\n",
    "    line_format = []\n",
    "    text_from_images = []\n",
    "    text_from_tables = []\n",
    "    page_content = []\n",
    "    table_num = 0\n",
    "    first_element= True\n",
    "    table_extraction_flag= False\n",
    "    pdf = pdfplumber.open(pdf_path)\n",
    "    page_tables = pdf.pages[pagenum]\n",
    "    tables = page_tables.find_tables()\n",
    "\n",
    "\n",
    "    page_elements = [(element.y1, element) for element in page._objs]\n",
    "    page_elements.sort(key=lambda a: a[0], reverse=True)\n",
    "\n",
    "    for i,component in enumerate(page_elements):\n",
    "        pos= component[0]\n",
    "        element = component[1]\n",
    "        \n",
    "        if isinstance(element, LTTextContainer):\n",
    "            if table_extraction_flag == False:\n",
    "                (line_text, format_per_line) = text_extraction(element)\n",
    "                page_text.append(line_text)\n",
    "                line_format.append(format_per_line)\n",
    "                page_content.append(line_text)\n",
    "            else:\n",
    "                pass\n",
    "\n",
    "        if isinstance(element, LTFigure):\n",
    "            crop_image(element, pageObj)\n",
    "            convert_to_images('cropped_image.pdf')\n",
    "            image_text = image_to_text('PDF_image.png')\n",
    "            text_from_images.append(image_text)\n",
    "            page_content.append(image_text)\n",
    "            page_text.append('image')\n",
    "            line_format.append('image')\n",
    "\n",
    "    dctkey = 'Page_'+str(pagenum)\n",
    "    text_per_page[dctkey]= [page_text, line_format, text_from_images,text_from_tables, page_content]\n",
    "\n",
    "pdfFileObj.close()\n",
    "\n",
    "result = ''.join(text_per_page['Page_0'][4])\n",
    "print(result)"
   ]
  },
  {
   "cell_type": "code",
   "execution_count": 34,
   "id": "f7e3d6cf",
   "metadata": {},
   "outputs": [
    {
     "name": "stdout",
     "output_type": "stream",
     "text": [
      "17.02.2025, 16:01\n",
      "\"Гражданский кодекс Российской Федерации (часть первая)\" от 30.11.1994 N 51-ФЗ (ред. от 08... \\ КонсультантПлюс\n",
      "2. Гражданское законодательство состоит из настоящего Кодекса и принятых в соответствии с ним\n",
      "иных  федеральных  законов  (далее  -  законы),  регулирующих  отношения,  указанные  в  пунктах  1  и  2\n",
      "статьи 2 настоящего Кодекса.\n",
      "Нормы гражданского права, содержащиеся в других законах, должны соответствовать настоящему\n",
      "Кодексу.\n",
      "2.1.  Внесение  изменений  в  настоящий  Кодекс,  а  также  приостановление  действия  или  признание\n",
      "утратившими  силу  положений  настоящего  Кодекса  осуществляется  отдельными  законами.  Положения,\n",
      "предусматривающие  внесение  изменений  в  настоящий  Кодекс,  приостановление  действия  или\n",
      "признание  утратившими  силу  положений  настоящего  Кодекса,  не  могут  быть  включены  в  тексты\n",
      "законов,  изменяющих  (приостанавливающих  действие  или  признающих  утратившими  силу)  другие\n",
      "законодательные  акты  Российской  Федерации  или  содержащих  самостоятельный  предмет  правового\n",
      "регулирования.\n",
      "(п. 2.1 введен Федеральным законом от 28.12.2016 N 497-ФЗ)\n",
      "3. Отношения, указанные в пунктах 1 и 2 статьи 2 настоящего Кодекса, могут регулироваться также\n",
      "указами Президента Российской Федерации, которые не должны противоречить настоящему Кодексу и\n",
      "иным законам.\n",
      "4.  На  основании  и  во  исполнение  настоящего  Кодекса  и  иных  законов,  указов  Президента\n",
      "Российской  Федерации  Правительство  Российской  Федерации  вправе  принимать  постановления,\n",
      "содержащие нормы гражданского права.\n",
      "5.  В  случае  противоречия  указа  Президента  Российской  Федерации  или  постановления\n",
      "Правительства  Российской  Федерации  настоящему  Кодексу  или  иному  закону  применяется  настоящий\n",
      "Кодекс или соответствующий закон.\n",
      "6.  Действие  и  применение  норм  гражданского  права,  содержащихся  в  указах  Президента\n",
      "Российской Федерации и постановлениях Правительства Российской Федерации (далее - иные правовые\n",
      "акты), определяются правилами настоящей главы.\n",
      "7.  Министерства  и  иные  федеральные  органы  исполнительной  власти  могут  издавать  акты,\n",
      "содержащие нормы гражданского права, в случаях и в пределах, предусмотренных настоящим Кодексом,\n",
      "другими законами и иными правовыми актами.\n",
      " \n",
      "Статья 4. Действие гражданского законодательства во времени\n",
      " \n",
      "1.  Акты  гражданского  законодательства  не  имеют  обратной  силы  и  применяются  к  отношениям,\n",
      "возникшим после введения их в действие.\n",
      "Действие закона распространяется на отношения, возникшие до введения его в действие, только в\n",
      "случаях, когда это прямо предусмотрено законом.\n",
      "2.  По  отношениям,  возникшим  до  введения  в  действие  акта  гражданского  законодательства,  он\n",
      "применяется к правам и обязанностям, возникшим после введения его в действие. Отношения сторон по\n",
      "договору,  заключенному  до  введения  в  действие  акта  гражданского  законодательства,  регулируются  в\n",
      "соответствии со статьей 422 настоящего Кодекса.\n",
      " \n",
      "Статья 5. Обычаи\n",
      "(в ред. Федерального закона от 30.12.2012 N 302-ФЗ)\n",
      " \n",
      "1.  Обычаем  признается  сложившееся  и  широко  применяемое  в  какой-либо  области\n",
      "предпринимательской  или  иной  деятельности,  не  предусмотренное  законодательством  правило\n",
      "поведения, независимо от того, зафиксировано ли оно в каком-либо документе.\n",
      "(п. 1 в ред. Федерального закона от 30.12.2012 N 302-ФЗ)\n",
      "2.  Обычаи,  противоречащие  обязательным  для  участников  соответствующего  отношения\n",
      "положениям законодательства или договору, не применяются.\n",
      "https://cloud.consultant.ru/cloud/cgi/online.cgi?req=doc&base=LAW&n=482692&dst=100001#0s184dUSOaq6etmr1\n",
      "4/258\n",
      "\n"
     ]
    }
   ],
   "source": [
    "result = ''.join(text_per_page['Page_3'][4])\n",
    "print(result)"
   ]
  },
  {
   "cell_type": "code",
   "execution_count": 3,
   "id": "10b5aa92",
   "metadata": {},
   "outputs": [],
   "source": [
    "def extract_text_from_pdf(pdf_path):\n",
    "    \"\"\"Извлекает текст из PDF-документа.\"\"\"\n",
    "    with pdfplumber.open(pdf_path) as pdf:\n",
    "        text = \"\"\n",
    "        for page in pdf.pages:\n",
    "            text += page.extract_text() + \"\\n\" \n",
    "    return text\n",
    "\n",
    "def process_text(text):\n",
    "    \"\"\"Обрабатывает текст, удаляя ссылки, колонтитулы, сноски, названия статей и объединяя перечисления.\"\"\"\n",
    "    dataset = []\n",
    "    \n",
    "    ignored_patterns = [\n",
    "        r'\\d{2}\\.\\d{2}\\.\\d{4}', \n",
    "        r'КонсультантПлюс',     \n",
    "        r'Позиции высших судов', \n",
    "        r'Гражданский кодекс',   \n",
    "        r'ред\\. от',            \n",
    "        r'КонсультантПлюс: примечание',  \n",
    "        r'Статья\\s+\\d+\\.',       \n",
    "        r'Глава\\s+\\d+\\.',        \n",
    "        r'Подраздел\\s+\\d+\\.',     \n",
    "        r'Раздел\\s+\\d+\\.',       \n",
    "        r'https?://\\S+',   \n",
    "        r'N\\s+\\d+-П\\.',          \n",
    "    ]\n",
    "    \n",
    "    text = re.sub(r'[А-ЯЁ\\s]+\\n', '', text)\n",
    "    text = re.sub(r'\\([^()]*\\)', '', text)\n",
    "    lines = text.splitlines()\n",
    "    \n",
    "    current_paragraph = \"\"\n",
    "    for line in lines:\n",
    "        if any(re.search(pattern, line) for pattern in ignored_patterns):\n",
    "            continue\n",
    "        \n",
    "        line = re.sub(r'\\([^()]*\\)', '', line).strip()\n",
    "        \n",
    "        if re.match(r'^\\s*\\d+\\.', line) or re.match(r'^\\s*\\d+\\)', line) or re.match(r'^\\s*\\d+\\.\\d+\\)', line):\n",
    "            if current_paragraph:  \n",
    "                dataset.append(current_paragraph.strip())\n",
    "                current_paragraph = \"\"\n",
    "            \n",
    "            line = re.sub(r'^\\s*\\d+\\.\\s*', '', line) \n",
    "            line = re.sub(r'^\\s*\\d+\\)\\s*', '', line) \n",
    "            line = re.sub(r'^\\s*\\d+\\.\\d+\\)\\s*', '', line) \n",
    "        \n",
    "        if \":\" in line and re.search(r'\\d+\\)', line):\n",
    "            current_paragraph += \" \" + line.strip()\n",
    "        else:\n",
    "            current_paragraph += \" \" + line.strip()\n",
    "    \n",
    "    if current_paragraph:\n",
    "        dataset.append(current_paragraph.strip())\n",
    "    \n",
    "    return dataset\n",
    "\n",
    "def save_dataset(dataset, output_file):\n",
    "    with open(output_file, 'w', encoding='utf-8') as f:\n",
    "        for line in dataset:\n",
    "            f.write(line + '\\n')\n",
    "            \n",
    "def save_to_excel(dataset, output_file):\n",
    "    df = pd.DataFrame(dataset, columns=[\"Text\"]) \n",
    "    df.to_excel(output_file, index=False)  "
   ]
  },
  {
   "cell_type": "code",
   "execution_count": 62,
   "id": "3c37bde8",
   "metadata": {},
   "outputs": [
    {
     "name": "stderr",
     "output_type": "stream",
     "text": [
      "<ipython-input-61-242cb9c8be89>:79: UserWarning: Pandas requires version '1.4.3' or newer of 'xlsxwriter' (version '1.3.8' currently installed).\n",
      "  df.to_excel('Гражданский кодекс (часть первая).xlsx', index=False)  # Сохраняем в Excel без индексов\n"
     ]
    },
    {
     "name": "stdout",
     "output_type": "stream",
     "text": [
      "Датасет сохранен в файл: dataset.txt\n"
     ]
    }
   ],
   "source": [
    "pdf_path = \"Гражданский кодекс Российской Федерации (часть первая).pdf\"  \n",
    "output_file = 'dataset.txt'  \n",
    "\n",
    "text = extract_text_from_pdf(pdf_path)\n",
    "dataset = process_text(text)\n",
    "#save_dataset(dataset, output_file)\n",
    "save_to_excel(df, output_file)\n",
    "\n",
    "print(f\"Датасет сохранен в файл: {output_file}\")"
   ]
  },
  {
   "cell_type": "code",
   "execution_count": 7,
   "id": "4b25cd5a",
   "metadata": {},
   "outputs": [
    {
     "name": "stderr",
     "output_type": "stream",
     "text": [
      "<ipython-input-3-391e920b8186>:79: UserWarning: Pandas requires version '1.4.3' or newer of 'xlsxwriter' (version '1.3.8' currently installed).\n",
      "  df.to_excel(output_file, index=False)  # Сохраняем в Excel без индексов\n"
     ]
    },
    {
     "name": "stdout",
     "output_type": "stream",
     "text": [
      "Датасет сохранен в файл: Гражданский кодекс Российской Федерации (часть вторая).xlsx\n"
     ]
    }
   ],
   "source": [
    "pdf_path = \"Гражданский кодекс Российской Федерации (часть вторая).pdf\" \n",
    "output_file = 'Гражданский кодекс Российской Федерации (часть вторая).xlsx' \n",
    "\n",
    "text2 = extract_text_from_pdf(pdf_path)\n",
    "dataset2 = process_text(text2)\n",
    "#save_dataset(dataset2, output_file)\n",
    "save_to_excel(dataset2, output_file)\n",
    "\n",
    "print(f\"Датасет сохранен в файл: {output_file}\")"
   ]
  }
 ],
 "metadata": {
  "kernelspec": {
   "display_name": "Python 3",
   "language": "python",
   "name": "python3"
  },
  "language_info": {
   "codemirror_mode": {
    "name": "ipython",
    "version": 3
   },
   "file_extension": ".py",
   "mimetype": "text/x-python",
   "name": "python",
   "nbconvert_exporter": "python",
   "pygments_lexer": "ipython3",
   "version": "3.8.8"
  }
 },
 "nbformat": 4,
 "nbformat_minor": 5
}
