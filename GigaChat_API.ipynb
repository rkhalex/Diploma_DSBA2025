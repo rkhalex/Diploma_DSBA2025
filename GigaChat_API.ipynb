{
 "cells": [
  {
   "cell_type": "code",
   "execution_count": 82,
   "id": "6579dc3c",
   "metadata": {},
   "outputs": [],
   "source": [
    "import base64\n",
    "credentials = f\"{'76366dd1-5426-4493-a2f8-2a43d99f63f4'}:{'afb2b878-5c56-40a3-a12f-dcc0edb428b1'}\"\n",
    "encoded_credentials = base64.b64encode(credentials.encode('utf-8')).decode('utf-8')"
   ]
  },
  {
   "cell_type": "code",
   "execution_count": 83,
   "id": "816973fa",
   "metadata": {},
   "outputs": [],
   "source": [
    "import requests\n",
    "import uuid\n",
    "\n",
    "def get_token(auth_token, scope='GIGACHAT_API_PERS'):\n",
    "\n",
    "    rq_uid = str(uuid.uuid4())\n",
    "    url = \"https://ngw.devices.sberbank.ru:9443/api/v2/oauth\"\n",
    "    \n",
    "    headers = {\n",
    "        'Content-Type': 'application/x-www-form-urlencoded',\n",
    "        'Accept': 'application/json',\n",
    "        'RqUID': rq_uid,\n",
    "        'Authorization': f\"Basic {auth_token}\" \n",
    "    }\n",
    "    \n",
    "    payload = {\n",
    "        'scope': scope\n",
    "    }\n",
    "\n",
    "    try:\n",
    "        response = requests.post(url, headers=headers, data=payload, verify=False)\n",
    "        \n",
    "        if response.status_code != 200:\n",
    "            print(f\"Ошибка: HTTP {response.status_code} - {response.text}\")\n",
    "            return -1\n",
    "            \n",
    "        return response\n",
    "        \n",
    "    except requests.RequestException as e:\n",
    "        print(f\"Ошибка запроса: {str(e)}\")\n",
    "        return -1"
   ]
  },
  {
   "cell_type": "code",
   "execution_count": 84,
   "id": "99c53a98",
   "metadata": {},
   "outputs": [
    {
     "name": "stdout",
     "output_type": "stream",
     "text": [
      "Токен получен: eyJjdHkiOiJqd3QiLCJlbmMiOiJBMjU2Q0JDLUhTNTEyIiwiYWxnIjoiUlNBLU9BRVAtMjU2In0.DCku1Q80rf6fy3ZtnxWTf7Pupir8Br4hDFFa00pXVQtWAr58n5KIoS5p_4r3AjuDwcWijYWPiivGj-75q1NZXxCeAa94OV1kyzEzxvLp6fjd8JwzJ_Ird9iXVoeaPXim-wAoEg4wQ-4oniWeWC9LJadmms3pYfRyMP23A2f-5n9VfjIJFwvNKPR-ssEp3RNRSfmGGTa1Uy0meGH1uS3WLRRg55AAc3bny3OIRzXA7xm1SEtOmtT2XIqoYvFsjA35NGYE0seMUi3xiFSUEMdEvWVYj8eSWFrI5lIaNLp6IRx1KOlzVDBkgZAs1BpEz3X82-fq0aDoerLF3mKaabCPOA.UZMitY12tXPxtCiI2VXsVA.LlYK4OIfAozSX-9YaZ_hWgsOt4y5S8XZ3YEFDyo3fkICLpg1oxG2l4no1QVA3xUVviAg4JoKdK6WwNTN_zENRyeK40oIYCsfC7QNXh5zlW5bwvhDZic0rGxjU0DH_nrGdCez4HRaGWEDnhHiKCAJZFlsPBLV_EAg-T9j80_4bSEn0zgirG5_TiIaTsZTUEkmM532SE4-qhJH3y66ACe7LTrGuQ1zQF3ooQjxOz4HYQuQlGIXHYeQy-wHnccvmVoDpy2T_2EEIWUjTfI9k-QUQEIKd08LzVCIUAz-yHKxo4lXhnDO5fbeq8CLLN5RIFTxHZrzxucIY_np88LzRkSTH1VxnU6A4buDVk3MT6OZGOdUo-RTALTJLz-qs4j9vAlhCwQUSLJHBo3pUVv3MY1JxzPMPNKGYe4aABGsFMdE1VuggnQQuTekmiTEnNQjTr51I8vfeTi22i6JGLFXk2doE7HdG-Pby9xEhLnPe6DMq_5ZSD6oToXBZPwhBs7043e7PmLT5Wr9VNdCHE907EwnV8sX1xnwSJmOYh6FziehC-HB6ATSrQ2P5unTH2O5gf2DH77iLB0qCMH30-AGhvgkjMWx_KVnVTaowMKQLEvfAQNDJFRQ95l-77qNV-BL4xniLSNt2CO4w5lNKAI2nmdsshKh-1KKyCsE6Wel3lygxMxVCRcGug0XWoDtMdC3jYdPPqqRcaOWba6VmptSAvL92MVfmt8iBH6iz82b52oxDTs.S-r_Py5ig0OrTU4rMEOvHG6Fn8iGCOACIKPkD82WAe8\n"
     ]
    },
    {
     "name": "stderr",
     "output_type": "stream",
     "text": [
      "/Users/a.arkhipova/opt/anaconda3/lib/python3.8/site-packages/urllib3/connectionpool.py:1064: InsecureRequestWarning: Unverified HTTPS request is being made to host 'ngw.devices.sberbank.ru'. Adding certificate verification is strongly advised. See: https://urllib3.readthedocs.io/en/1.26.x/advanced-usage.html#ssl-warnings\n",
      "  warnings.warn(\n"
     ]
    }
   ],
   "source": [
    "encoded_credentials = \"NzYzNjZkZDEtNTQyNi00NDkzLWEyZjgtMmE0M2Q5OWY2M2Y0OmFmYjJiODc4LTVjNTYtNDBhMy1hMTJmLWRjYzBlZGI0MjhiMQ==\"\n",
    "response = get_token(encoded_credentials)\n",
    "\n",
    "if response != -1:\n",
    "    try:\n",
    "        giga_token = response.json()['access_token']\n",
    "        print(\"Токен получен:\", giga_token)\n",
    "    except KeyError:\n",
    "        print(\"Ошибка: в ответе отсутствует access_token\")\n",
    "        print(\"Полный ответ:\", response.text)"
   ]
  },
  {
   "cell_type": "code",
   "execution_count": 85,
   "id": "07dcae32",
   "metadata": {},
   "outputs": [
    {
     "name": "stdout",
     "output_type": "stream",
     "text": [
      "Успешный запрос! Доступные модели:\n",
      "{'object': 'list', 'data': [{'id': 'GigaChat', 'object': 'model', 'owned_by': 'salutedevices', 'type': 'chat'}, {'id': 'GigaChat-2', 'object': 'model', 'owned_by': 'salutedevices', 'type': 'chat'}, {'id': 'GigaChat-2-Max', 'object': 'model', 'owned_by': 'salutedevices', 'type': 'chat'}, {'id': 'GigaChat-2-Max-preview', 'object': 'model', 'owned_by': 'salutedevices', 'type': 'chat'}, {'id': 'GigaChat-2-Pro', 'object': 'model', 'owned_by': 'salutedevices', 'type': 'chat'}, {'id': 'GigaChat-2-Pro-preview', 'object': 'model', 'owned_by': 'salutedevices', 'type': 'chat'}, {'id': 'GigaChat-2-preview', 'object': 'model', 'owned_by': 'salutedevices', 'type': 'chat'}, {'id': 'GigaChat-Max', 'object': 'model', 'owned_by': 'salutedevices', 'type': 'chat'}, {'id': 'GigaChat-Max-preview', 'object': 'model', 'owned_by': 'salutedevices', 'type': 'chat'}, {'id': 'GigaChat-Plus', 'object': 'model', 'owned_by': 'salutedevices', 'type': 'chat'}, {'id': 'GigaChat-Plus-preview', 'object': 'model', 'owned_by': 'salutedevices', 'type': 'chat'}, {'id': 'GigaChat-Pro', 'object': 'model', 'owned_by': 'salutedevices', 'type': 'chat'}, {'id': 'GigaChat-Pro-preview', 'object': 'model', 'owned_by': 'salutedevices', 'type': 'chat'}, {'id': 'GigaChat-preview', 'object': 'model', 'owned_by': 'salutedevices', 'type': 'chat'}]}\n"
     ]
    },
    {
     "name": "stderr",
     "output_type": "stream",
     "text": [
      "/Users/a.arkhipova/opt/anaconda3/lib/python3.8/site-packages/urllib3/connectionpool.py:1064: InsecureRequestWarning: Unverified HTTPS request is being made to host 'gigachat.devices.sberbank.ru'. Adding certificate verification is strongly advised. See: https://urllib3.readthedocs.io/en/1.26.x/advanced-usage.html#ssl-warnings\n",
      "  warnings.warn(\n"
     ]
    }
   ],
   "source": [
    "import requests\n",
    "\n",
    "url = \"https://gigachat.devices.sberbank.ru/api/v1/models\"\n",
    "\n",
    "headers = {\n",
    "    'Accept': 'application/json',\n",
    "    'Authorization': f'Bearer {giga_token}'\n",
    "}\n",
    "\n",
    "response = requests.get(url, headers=headers, verify=False)\n",
    "\n",
    "if response.status_code == 200:\n",
    "    print(\"Успешный запрос! Доступные модели:\")\n",
    "    print(response.json())  \n",
    "else:\n",
    "    print(f\"Ошибка: {response.status_code}\")\n",
    "    print(response.text) "
   ]
  },
  {
   "cell_type": "code",
   "execution_count": 86,
   "id": "e8e8d625",
   "metadata": {},
   "outputs": [],
   "source": [
    "import json\n",
    "\n",
    "def get_chat_completion(auth_token, user_message):\n",
    "\n",
    "    url = \"https://gigachat.devices.sberbank.ru/api/v1/chat/completions\"\n",
    "\n",
    "    payload = json.dumps({\n",
    "        \"model\": \"GigaChat-2-Max\", \n",
    "        \"messages\": [\n",
    "            {\n",
    "                \"role\": \"user\", \n",
    "                \"content\": user_message \n",
    "            }\n",
    "        ],\n",
    "        \"temperature\": 1,\n",
    "        \"top_p\": 0.1, \n",
    "        \"n\": 10, \n",
    "        \"stream\": False,  \n",
    "        \"max_tokens\": 2000,  \n",
    "        \"repetition_penalty\": 1,  \n",
    "        \"update_interval\": 0  \n",
    "    })\n",
    "\n",
    "    headers = {\n",
    "        'Content-Type': 'application/json',  \n",
    "        'Accept': 'application/json',  \n",
    "        'Authorization': f'Bearer {auth_token}' \n",
    "    }\n",
    "\n",
    "    try:\n",
    "        response = requests.request(\"POST\", url, headers=headers, data=payload, verify=False)\n",
    "        return response\n",
    "    except requests.RequestException as e:\n",
    "        print(f\"Произошла ошибка: {str(e)}\")\n",
    "        return -1"
   ]
  },
  {
   "cell_type": "code",
   "execution_count": 87,
   "id": "f5424800",
   "metadata": {},
   "outputs": [
    {
     "name": "stderr",
     "output_type": "stream",
     "text": [
      "/Users/a.arkhipova/opt/anaconda3/lib/python3.8/site-packages/urllib3/connectionpool.py:1064: InsecureRequestWarning: Unverified HTTPS request is being made to host 'gigachat.devices.sberbank.ru'. Adding certificate verification is strongly advised. See: https://urllib3.readthedocs.io/en/1.26.x/advanced-usage.html#ssl-warnings\n",
      "  warnings.warn(\n"
     ]
    }
   ],
   "source": [
    "answer = get_chat_completion(giga_token, 'Мне нужен договор пожизненного содержания с иждивением. Документ должен соответствовать законодательству Российской Федерации, иметь длину 5000 символов.')"
   ]
  },
  {
   "cell_type": "code",
   "execution_count": 67,
   "id": "c9144207",
   "metadata": {},
   "outputs": [
    {
     "data": {
      "text/plain": [
       "{'choices': [{'message': {'content': '### Договор пожизненного содержания с иждивением\\n\\n#### Город __________, __________ года\\n\\nМы, нижеподписавшиеся:\\n\\n1. ___________________________ (ФИО), паспорт __________, выдан __________, зарегистрированный по адресу: __________, именуемый в дальнейшем \"Получатель ренты\", с одной стороны,\\n\\n2. ___________________________ (ФИО), паспорт __________, выдан __________, зарегистрированный по адресу: __________, именуемый в дальнейшем \"Плательщик ренты\", с другой стороны,\\n\\nзаключили настоящий договор о нижеследующем:\\n\\n#### 1. Предмет договора\\n\\n1.1. Получатель ренты передает в собственность Плательщика ренты недвижимое имущество, а именно: __________ (указать объект недвижимости, его адрес, кадастровый номер и другие характеристики), а Плательщик ренты обязуется в обмен на полученное имущество предоставить Получателю ренты пожизненное содержание с иждивением.\\n\\n1.2. Имущество, указанное в п. 1.1, принадлежит Получателю ренты на праве собственности, что подтверждается __________ (указать документ, подтверждающий право собственности).\\n\\n#### 2. Обязанности Плательщика ренты\\n\\n2.1. Плательщик ренты обязуется обеспечивать Получателя ренты пожизненным содержанием с иждивением, которое включает в себя:\\n   - предоставление питания;\\n   - обеспечение одеждой и обувью;\\n   - предоставление жилья;\\n   - уход за Получателем ренты, включая помощь в выполнении бытовых обязанностей;\\n   - оплату коммунальных услуг;\\n   - оплату медицинских услуг и лекарств;\\n   - иные услуги, необходимые для поддержания достойного уровня жизни Получателя ренты.\\n\\n2.2. Плательщик ренты обязуется выполнять свои обязательства по содержанию Получателя ренты в полном объеме и своевременно.\\n\\n2.3. Плательщик ренты обязуется не отчуждать, не сдавать в аренду, не передавать в залог и не обременять иным образом имущество, указанное в п. 1.1, без согласия Получателя ренты.\\n\\n#### 3. Права и обязанности Получателя ренты\\n\\n3.1. Получатель ренты имеет право требовать от Плательщика ренты исполнения его обязательств по содержанию с иждивением.\\n\\n3.2. Получатель ренты обязуется передать Плательщику ренты имущество, указанное в п. 1.1, в течение __________ дней с момента подписания настоящего договора.\\n\\n3.3. Получатель ренты обязуется не препятствовать Плательщику ренты в исполнении его обязательств по содержанию с иждивением.\\n\\n#### 4. Ответственность сторон\\n\\n4.1. В случае неисполнения или ненадлежащего исполнения Плательщиком ренты своих обязательств по содержанию с иждивением Получатель ренты имеет право требовать расторжения настоящего договора и возврата имущества, указанного в п. 1.1.\\n\\n4.2. В случае расторжения настоящего договора по вине Плательщика ренты он обязан возместить Получателю ренты все убытки, связанные с расторжением договора.\\n\\n#### 5. Срок действия договора\\n\\n5.1. Настоящий договор вступает в силу с момента его подписания и действует до смерти Получателя ренты.\\n\\n#### 6. Заключительные положения\\n\\n6.1. Настоящий договор составлен в трех экземплярах, по одному для каждой из сторон и один для органа, осуществляющего государственную регистрацию прав на недвижимое имущество.\\n\\n6.2. Все споры и разногласия, возникающие из настоящего договора или в связи с ним, разрешаются путем переговоров. В случае невозможности разрешения споров путем переговоров они подлежат рассмотрению в суде в соответствии с законодательством Российской Федерации.\\n\\n6.3. Настоящий договор может быть изменен или дополнен по соглашению сторон. Все изменения и дополнения к настоящему договору должны быть оформлены в письменной форме и подписаны обеими сторонами.\\n\\n#### Подписи сторон:\\n\\nПолучатель ренты: ___________________________ (ФИО)\\n\\nПлательщик ренты: ___________________________ (ФИО)\\n\\n#### Регистрационные данные:\\n\\nНастоящий договор зарегистрирован в __________ (указать орган, осуществляющий государственную регистрацию прав на недвижимое имущество) __________ года за номером __________.\\n\\n#### Заверение нотариуса:\\n\\nНастоящий договор удостоверен мной, нотариусом __________, __________ года.\\n\\nНотариус: ___________________________ (ФИО)\\n\\n(Подпись нотариуса)\\n\\n(Печать нотариуса)\\n\\n---\\n\\n**Примечание:** Данный договор является примерным и может быть адаптирован в зависимости от конкретных обстоятельств и требований законодательства Российской Федерации. Перед заключением договора рекомендуется проконсультироваться с юристом.',\n",
       "    'role': 'assistant'},\n",
       "   'index': 0,\n",
       "   'finish_reason': 'stop'}],\n",
       " 'created': 1743284719,\n",
       " 'model': 'GigaChat-2-Max:2.0.27.4',\n",
       " 'object': 'chat.completion',\n",
       " 'usage': {'prompt_tokens': 40,\n",
       "  'completion_tokens': 963,\n",
       "  'total_tokens': 1003,\n",
       "  'precached_prompt_tokens': 0}}"
      ]
     },
     "execution_count": 67,
     "metadata": {},
     "output_type": "execute_result"
    }
   ],
   "source": [
    "answer.json()"
   ]
  },
  {
   "cell_type": "code",
   "execution_count": 68,
   "id": "3fc19f2c",
   "metadata": {},
   "outputs": [],
   "source": [
    "text_to_save = answer.json()['choices'][0]['message']['content']"
   ]
  },
  {
   "cell_type": "code",
   "execution_count": 69,
   "id": "593b0380",
   "metadata": {},
   "outputs": [],
   "source": [
    "from openpyxl import Workbook\n",
    "\n",
    "wb = Workbook()\n",
    "ws = wb.active\n",
    "ws.title = \"Текст ответа\""
   ]
  },
  {
   "cell_type": "code",
   "execution_count": 70,
   "id": "eb6679ec",
   "metadata": {},
   "outputs": [
    {
     "name": "stdout",
     "output_type": "stream",
     "text": [
      "Текст успешно сохранен в файл 'GigaChat_text.xlsx'\n"
     ]
    }
   ],
   "source": [
    "for i, line in enumerate(text_to_save.split('\\n'), start=1):\n",
    "     ws.cell(row=i, column=1, value=line)\n",
    "ws.column_dimensions['A'].width = 100\n",
    "\n",
    "wb.save(\"GigaChat_text.xlsx\")\n",
    "print(f\"Текст успешно сохранен в файл 'GigaChat_text.xlsx'\")"
   ]
  },
  {
   "cell_type": "code",
   "execution_count": 73,
   "id": "281edd8b",
   "metadata": {},
   "outputs": [
    {
     "name": "stderr",
     "output_type": "stream",
     "text": [
      "/Users/a.arkhipova/opt/anaconda3/lib/python3.8/site-packages/urllib3/connectionpool.py:1064: InsecureRequestWarning: Unverified HTTPS request is being made to host 'gigachat.devices.sberbank.ru'. Adding certificate verification is strongly advised. See: https://urllib3.readthedocs.io/en/1.26.x/advanced-usage.html#ssl-warnings\n",
      "  warnings.warn(\n"
     ]
    },
    {
     "data": {
      "text/plain": [
       "<Response [200]>"
      ]
     },
     "execution_count": 73,
     "metadata": {},
     "output_type": "execute_result"
    }
   ],
   "source": [
    "answer = get_chat_completion(giga_token, 'Мне нужен договор хранения. Документ должен соответствовать законодательству Российской Федерации, иметь длину 5000 символов.')\n",
    "answer"
   ]
  },
  {
   "cell_type": "code",
   "execution_count": 74,
   "id": "0988af54",
   "metadata": {},
   "outputs": [
    {
     "name": "stdout",
     "output_type": "stream",
     "text": [
      "Текст успешно сохранен в файл 'GigaChat_text.xlsx'\n"
     ]
    }
   ],
   "source": [
    "text_to_save1 = answer.json()['choices'][0]['message']['content']\n",
    "\n",
    "for i, line in enumerate(text_to_save1.split('\\n'), start=1):\n",
    "     ws.cell(row=i, column=1, value=line)\n",
    "ws.column_dimensions['A'].width = 100\n",
    "\n",
    "wb.save(\"GigaChat_text.xlsx\")\n",
    "print(f\"Текст успешно сохранен в файл 'GigaChat_text.xlsx'\")"
   ]
  },
  {
   "cell_type": "code",
   "execution_count": 75,
   "id": "2fc3e30c",
   "metadata": {},
   "outputs": [
    {
     "name": "stderr",
     "output_type": "stream",
     "text": [
      "/Users/a.arkhipova/opt/anaconda3/lib/python3.8/site-packages/urllib3/connectionpool.py:1064: InsecureRequestWarning: Unverified HTTPS request is being made to host 'gigachat.devices.sberbank.ru'. Adding certificate verification is strongly advised. See: https://urllib3.readthedocs.io/en/1.26.x/advanced-usage.html#ssl-warnings\n",
      "  warnings.warn(\n"
     ]
    },
    {
     "data": {
      "text/plain": [
       "<Response [200]>"
      ]
     },
     "execution_count": 75,
     "metadata": {},
     "output_type": "execute_result"
    }
   ],
   "source": [
    "answer = get_chat_completion(giga_token, 'Мне нужен договор комиссии. Документ должен соответствовать законодательству Российской Федерации, иметь длину 5000 символов.')\n",
    "answer"
   ]
  },
  {
   "cell_type": "code",
   "execution_count": 76,
   "id": "2e65cf16",
   "metadata": {},
   "outputs": [
    {
     "name": "stdout",
     "output_type": "stream",
     "text": [
      "Текст успешно сохранен в файл 'GigaChat_text.xlsx'\n"
     ]
    }
   ],
   "source": [
    "text_to_save2 = answer.json()['choices'][0]['message']['content']\n",
    "\n",
    "for i, line in enumerate(text_to_save2.split('\\n'), start=1):\n",
    "     ws.cell(row=i, column=1, value=line)\n",
    "ws.column_dimensions['A'].width = 100\n",
    "\n",
    "wb.save(\"GigaChat_text.xlsx\")\n",
    "print(f\"Текст успешно сохранен в файл 'GigaChat_text.xlsx'\")"
   ]
  },
  {
   "cell_type": "code",
   "execution_count": 77,
   "id": "cb66febc",
   "metadata": {},
   "outputs": [
    {
     "name": "stderr",
     "output_type": "stream",
     "text": [
      "/Users/a.arkhipova/opt/anaconda3/lib/python3.8/site-packages/urllib3/connectionpool.py:1064: InsecureRequestWarning: Unverified HTTPS request is being made to host 'gigachat.devices.sberbank.ru'. Adding certificate verification is strongly advised. See: https://urllib3.readthedocs.io/en/1.26.x/advanced-usage.html#ssl-warnings\n",
      "  warnings.warn(\n"
     ]
    },
    {
     "data": {
      "text/plain": [
       "<Response [200]>"
      ]
     },
     "execution_count": 77,
     "metadata": {},
     "output_type": "execute_result"
    }
   ],
   "source": [
    "answer = get_chat_completion(giga_token, 'Мне нужен договор проведения игр и пари. Документ должен соответствовать законодательству Российской Федерации, иметь длину 5000 символов.')\n",
    "answer"
   ]
  },
  {
   "cell_type": "code",
   "execution_count": 78,
   "id": "dcb59c48",
   "metadata": {},
   "outputs": [
    {
     "name": "stdout",
     "output_type": "stream",
     "text": [
      "Текст успешно сохранен в файл 'GigaChat_text.xlsx'\n"
     ]
    }
   ],
   "source": [
    "text_to_save3 = answer.json()['choices'][0]['message']['content']\n",
    "\n",
    "for i, line in enumerate(text_to_save3.split('\\n'), start=1):\n",
    "     ws.cell(row=i, column=1, value=line)\n",
    "ws.column_dimensions['A'].width = 100\n",
    "\n",
    "wb.save(\"GigaChat_text.xlsx\")\n",
    "print(f\"Текст успешно сохранен в файл 'GigaChat_text.xlsx'\")"
   ]
  },
  {
   "cell_type": "code",
   "execution_count": 88,
   "id": "a2676123",
   "metadata": {},
   "outputs": [
    {
     "name": "stderr",
     "output_type": "stream",
     "text": [
      "/Users/a.arkhipova/opt/anaconda3/lib/python3.8/site-packages/urllib3/connectionpool.py:1064: InsecureRequestWarning: Unverified HTTPS request is being made to host 'gigachat.devices.sberbank.ru'. Adding certificate verification is strongly advised. See: https://urllib3.readthedocs.io/en/1.26.x/advanced-usage.html#ssl-warnings\n",
      "  warnings.warn(\n"
     ]
    },
    {
     "data": {
      "text/plain": [
       "<Response [200]>"
      ]
     },
     "execution_count": 88,
     "metadata": {},
     "output_type": "execute_result"
    }
   ],
   "source": [
    "answer = get_chat_completion(giga_token, 'Мне нужен договор публичного конкурса. Документ должен соответствовать законодательству Российской Федерации, иметь длину 5000 символов.')\n",
    "answer"
   ]
  },
  {
   "cell_type": "code",
   "execution_count": 89,
   "id": "e350c798",
   "metadata": {},
   "outputs": [
    {
     "name": "stdout",
     "output_type": "stream",
     "text": [
      "Текст успешно сохранен в файл 'GigaChat_text.xlsx'\n"
     ]
    }
   ],
   "source": [
    "text_to_save4 = answer.json()['choices'][0]['message']['content']\n",
    "\n",
    "for i, line in enumerate(text_to_save4.split('\\n'), start=1):\n",
    "     ws.cell(row=i, column=1, value=line)\n",
    "ws.column_dimensions['A'].width = 100\n",
    "\n",
    "wb.save(\"GigaChat_text.xlsx\")\n",
    "print(f\"Текст успешно сохранен в файл 'GigaChat_text.xlsx'\")"
   ]
  }
 ],
 "metadata": {
  "kernelspec": {
   "display_name": "Python 3",
   "language": "python",
   "name": "python3"
  },
  "language_info": {
   "codemirror_mode": {
    "name": "ipython",
    "version": 3
   },
   "file_extension": ".py",
   "mimetype": "text/x-python",
   "name": "python",
   "nbconvert_exporter": "python",
   "pygments_lexer": "ipython3",
   "version": "3.8.8"
  }
 },
 "nbformat": 4,
 "nbformat_minor": 5
}
